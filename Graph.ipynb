{
  "nbformat": 4,
  "nbformat_minor": 0,
  "metadata": {
    "colab": {
      "provenance": [],
      "mount_file_id": "1LNCBMFAndTKYlAU5d7h8p4QVx0Ch4Gxo",
      "authorship_tag": "ABX9TyNCpAxd0HLebN9satjh2ljW",
      "include_colab_link": true
    },
    "kernelspec": {
      "name": "python3",
      "display_name": "Python 3"
    },
    "language_info": {
      "name": "python"
    }
  },
  "cells": [
    {
      "cell_type": "markdown",
      "metadata": {
        "id": "view-in-github",
        "colab_type": "text"
      },
      "source": [
        "<a href=\"https://colab.research.google.com/github/40116341054071/Graph/blob/main/Graph.ipynb\" target=\"_parent\"><img src=\"https://colab.research.google.com/assets/colab-badge.svg\" alt=\"Open In Colab\"/></a>"
      ]
    },
    {
      "cell_type": "code",
      "execution_count": 4,
      "metadata": {
        "id": "iI3os5iKvkX5"
      },
      "outputs": [],
      "source": [
        "class Graph:\n",
        "  def __init__(self , n):\n",
        "    self.size = n\n",
        "    self.m = []\n",
        "    for _ in range(n):\n",
        "      self.m.append([0 for i in range(n)])\n",
        "\n",
        "  def add_edge(self , v1 , v2):\n",
        "    self.m[v1][v2] = 1\n",
        "    self.m[v2][v1] = 1\n",
        "\n",
        "  def display(self):\n",
        "    for i in range (self.size):\n",
        "      for j in range (self.size):\n",
        "        print(self.m[i][j] , end=\" \")\n",
        "    print( )"
      ]
    },
    {
      "cell_type": "code",
      "source": [
        "g= Graph(4)\n",
        "g.add_edge(0,1)\n",
        "g.add_edge(0,2)\n",
        "g.add_edge(1,2)\n",
        "g.add_edge(2,3)\n",
        "g.display()"
      ],
      "metadata": {
        "colab": {
          "base_uri": "https://localhost:8080/"
        },
        "id": "oRUFbCwl_Pod",
        "outputId": "94ae6f0b-af11-4c6a-8b26-3c555ef74516"
      },
      "execution_count": 5,
      "outputs": [
        {
          "output_type": "stream",
          "name": "stdout",
          "text": [
            "0 1 1 0 1 0 1 0 1 1 0 1 0 0 1 0 \n"
          ]
        }
      ]
    }
  ]
}